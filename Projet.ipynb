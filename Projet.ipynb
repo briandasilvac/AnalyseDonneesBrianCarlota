{
 "cells": [
  {
   "cell_type": "markdown",
   "id": "7dbba591",
   "metadata": {},
   "source": [
    "# Importer les librairies"
   ]
  },
  {
   "cell_type": "code",
   "execution_count": 1,
   "id": "0e1c95d0",
   "metadata": {},
   "outputs": [],
   "source": [
    "# A exécuter dans un environnement virtuel python (venv) avant de lancer le code\n",
    "# pip install pandas numpy scipy seaborn matplotlib\n",
    "\n",
    "import pandas as pd\n",
    "import numpy as np\n",
    "from scipy import stats\n",
    "\n",
    "# Visualisation\n",
    "import seaborn as sns\n",
    "import matplotlib.pyplot as plt"
   ]
  },
  {
   "cell_type": "markdown",
   "id": "3abf0329",
   "metadata": {},
   "source": [
    "# Importer les données"
   ]
  },
  {
   "cell_type": "code",
   "execution_count": 2,
   "id": "1066b6ec",
   "metadata": {},
   "outputs": [
    {
     "data": {
      "text/html": [
       "<div>\n",
       "<style scoped>\n",
       "    .dataframe tbody tr th:only-of-type {\n",
       "        vertical-align: middle;\n",
       "    }\n",
       "\n",
       "    .dataframe tbody tr th {\n",
       "        vertical-align: top;\n",
       "    }\n",
       "\n",
       "    .dataframe thead th {\n",
       "        text-align: right;\n",
       "    }\n",
       "</style>\n",
       "<table border=\"1\" class=\"dataframe\">\n",
       "  <thead>\n",
       "    <tr style=\"text-align: right;\">\n",
       "      <th></th>\n",
       "      <th>PassengerId</th>\n",
       "      <th>Survived</th>\n",
       "      <th>Pclass</th>\n",
       "      <th>Name</th>\n",
       "      <th>Sex</th>\n",
       "      <th>Age</th>\n",
       "      <th>SibSp</th>\n",
       "      <th>Parch</th>\n",
       "      <th>Ticket</th>\n",
       "      <th>Fare</th>\n",
       "      <th>Cabin</th>\n",
       "      <th>Embarked</th>\n",
       "    </tr>\n",
       "  </thead>\n",
       "  <tbody>\n",
       "    <tr>\n",
       "      <th>0</th>\n",
       "      <td>1</td>\n",
       "      <td>0</td>\n",
       "      <td>3</td>\n",
       "      <td>Braund, Mr. Owen Harris</td>\n",
       "      <td>male</td>\n",
       "      <td>22.0</td>\n",
       "      <td>1</td>\n",
       "      <td>0</td>\n",
       "      <td>A/5 21171</td>\n",
       "      <td>7.2500</td>\n",
       "      <td>NaN</td>\n",
       "      <td>S</td>\n",
       "    </tr>\n",
       "    <tr>\n",
       "      <th>1</th>\n",
       "      <td>2</td>\n",
       "      <td>1</td>\n",
       "      <td>1</td>\n",
       "      <td>Cumings, Mrs. John Bradley (Florence Briggs Th...</td>\n",
       "      <td>female</td>\n",
       "      <td>38.0</td>\n",
       "      <td>1</td>\n",
       "      <td>0</td>\n",
       "      <td>PC 17599</td>\n",
       "      <td>71.2833</td>\n",
       "      <td>C85</td>\n",
       "      <td>C</td>\n",
       "    </tr>\n",
       "    <tr>\n",
       "      <th>2</th>\n",
       "      <td>3</td>\n",
       "      <td>1</td>\n",
       "      <td>3</td>\n",
       "      <td>Heikkinen, Miss. Laina</td>\n",
       "      <td>female</td>\n",
       "      <td>26.0</td>\n",
       "      <td>0</td>\n",
       "      <td>0</td>\n",
       "      <td>STON/O2. 3101282</td>\n",
       "      <td>7.9250</td>\n",
       "      <td>NaN</td>\n",
       "      <td>S</td>\n",
       "    </tr>\n",
       "    <tr>\n",
       "      <th>3</th>\n",
       "      <td>4</td>\n",
       "      <td>1</td>\n",
       "      <td>1</td>\n",
       "      <td>Futrelle, Mrs. Jacques Heath (Lily May Peel)</td>\n",
       "      <td>female</td>\n",
       "      <td>35.0</td>\n",
       "      <td>1</td>\n",
       "      <td>0</td>\n",
       "      <td>113803</td>\n",
       "      <td>53.1000</td>\n",
       "      <td>C123</td>\n",
       "      <td>S</td>\n",
       "    </tr>\n",
       "    <tr>\n",
       "      <th>4</th>\n",
       "      <td>5</td>\n",
       "      <td>0</td>\n",
       "      <td>3</td>\n",
       "      <td>Allen, Mr. William Henry</td>\n",
       "      <td>male</td>\n",
       "      <td>35.0</td>\n",
       "      <td>0</td>\n",
       "      <td>0</td>\n",
       "      <td>373450</td>\n",
       "      <td>8.0500</td>\n",
       "      <td>NaN</td>\n",
       "      <td>S</td>\n",
       "    </tr>\n",
       "    <tr>\n",
       "      <th>...</th>\n",
       "      <td>...</td>\n",
       "      <td>...</td>\n",
       "      <td>...</td>\n",
       "      <td>...</td>\n",
       "      <td>...</td>\n",
       "      <td>...</td>\n",
       "      <td>...</td>\n",
       "      <td>...</td>\n",
       "      <td>...</td>\n",
       "      <td>...</td>\n",
       "      <td>...</td>\n",
       "      <td>...</td>\n",
       "    </tr>\n",
       "    <tr>\n",
       "      <th>886</th>\n",
       "      <td>887</td>\n",
       "      <td>0</td>\n",
       "      <td>2</td>\n",
       "      <td>Montvila, Rev. Juozas</td>\n",
       "      <td>male</td>\n",
       "      <td>27.0</td>\n",
       "      <td>0</td>\n",
       "      <td>0</td>\n",
       "      <td>211536</td>\n",
       "      <td>13.0000</td>\n",
       "      <td>NaN</td>\n",
       "      <td>S</td>\n",
       "    </tr>\n",
       "    <tr>\n",
       "      <th>887</th>\n",
       "      <td>888</td>\n",
       "      <td>1</td>\n",
       "      <td>1</td>\n",
       "      <td>Graham, Miss. Margaret Edith</td>\n",
       "      <td>female</td>\n",
       "      <td>19.0</td>\n",
       "      <td>0</td>\n",
       "      <td>0</td>\n",
       "      <td>112053</td>\n",
       "      <td>30.0000</td>\n",
       "      <td>B42</td>\n",
       "      <td>S</td>\n",
       "    </tr>\n",
       "    <tr>\n",
       "      <th>888</th>\n",
       "      <td>889</td>\n",
       "      <td>0</td>\n",
       "      <td>3</td>\n",
       "      <td>Johnston, Miss. Catherine Helen \"Carrie\"</td>\n",
       "      <td>female</td>\n",
       "      <td>NaN</td>\n",
       "      <td>1</td>\n",
       "      <td>2</td>\n",
       "      <td>W./C. 6607</td>\n",
       "      <td>23.4500</td>\n",
       "      <td>NaN</td>\n",
       "      <td>S</td>\n",
       "    </tr>\n",
       "    <tr>\n",
       "      <th>889</th>\n",
       "      <td>890</td>\n",
       "      <td>1</td>\n",
       "      <td>1</td>\n",
       "      <td>Behr, Mr. Karl Howell</td>\n",
       "      <td>male</td>\n",
       "      <td>26.0</td>\n",
       "      <td>0</td>\n",
       "      <td>0</td>\n",
       "      <td>111369</td>\n",
       "      <td>30.0000</td>\n",
       "      <td>C148</td>\n",
       "      <td>C</td>\n",
       "    </tr>\n",
       "    <tr>\n",
       "      <th>890</th>\n",
       "      <td>891</td>\n",
       "      <td>0</td>\n",
       "      <td>3</td>\n",
       "      <td>Dooley, Mr. Patrick</td>\n",
       "      <td>male</td>\n",
       "      <td>32.0</td>\n",
       "      <td>0</td>\n",
       "      <td>0</td>\n",
       "      <td>370376</td>\n",
       "      <td>7.7500</td>\n",
       "      <td>NaN</td>\n",
       "      <td>Q</td>\n",
       "    </tr>\n",
       "  </tbody>\n",
       "</table>\n",
       "<p>891 rows × 12 columns</p>\n",
       "</div>"
      ],
      "text/plain": [
       "     PassengerId  Survived  Pclass  \\\n",
       "0              1         0       3   \n",
       "1              2         1       1   \n",
       "2              3         1       3   \n",
       "3              4         1       1   \n",
       "4              5         0       3   \n",
       "..           ...       ...     ...   \n",
       "886          887         0       2   \n",
       "887          888         1       1   \n",
       "888          889         0       3   \n",
       "889          890         1       1   \n",
       "890          891         0       3   \n",
       "\n",
       "                                                  Name     Sex   Age  SibSp  \\\n",
       "0                              Braund, Mr. Owen Harris    male  22.0      1   \n",
       "1    Cumings, Mrs. John Bradley (Florence Briggs Th...  female  38.0      1   \n",
       "2                               Heikkinen, Miss. Laina  female  26.0      0   \n",
       "3         Futrelle, Mrs. Jacques Heath (Lily May Peel)  female  35.0      1   \n",
       "4                             Allen, Mr. William Henry    male  35.0      0   \n",
       "..                                                 ...     ...   ...    ...   \n",
       "886                              Montvila, Rev. Juozas    male  27.0      0   \n",
       "887                       Graham, Miss. Margaret Edith  female  19.0      0   \n",
       "888           Johnston, Miss. Catherine Helen \"Carrie\"  female   NaN      1   \n",
       "889                              Behr, Mr. Karl Howell    male  26.0      0   \n",
       "890                                Dooley, Mr. Patrick    male  32.0      0   \n",
       "\n",
       "     Parch            Ticket     Fare Cabin Embarked  \n",
       "0        0         A/5 21171   7.2500   NaN        S  \n",
       "1        0          PC 17599  71.2833   C85        C  \n",
       "2        0  STON/O2. 3101282   7.9250   NaN        S  \n",
       "3        0            113803  53.1000  C123        S  \n",
       "4        0            373450   8.0500   NaN        S  \n",
       "..     ...               ...      ...   ...      ...  \n",
       "886      0            211536  13.0000   NaN        S  \n",
       "887      0            112053  30.0000   B42        S  \n",
       "888      2        W./C. 6607  23.4500   NaN        S  \n",
       "889      0            111369  30.0000  C148        C  \n",
       "890      0            370376   7.7500   NaN        Q  \n",
       "\n",
       "[891 rows x 12 columns]"
      ]
     },
     "execution_count": 2,
     "metadata": {},
     "output_type": "execute_result"
    }
   ],
   "source": [
    "data = pd.read_csv(\"Data/titanic.csv\")\n",
    "data"
   ]
  },
  {
   "cell_type": "markdown",
   "id": "05045c73",
   "metadata": {},
   "source": [
    "# Questions"
   ]
  },
  {
   "cell_type": "markdown",
   "id": "a164d862",
   "metadata": {},
   "source": [
    "## 1. Préparation des données\n",
    "\n",
    "Remplissez la function `preprocess` ci-dessus. Celle-ci doit:\n",
    "1. Supprimez les colonnes `PassengerId`, `Name`, `Ticket`, `Cabin`.\n",
    "2. Supprimez les lignes contenant au moins une valeur manquante.\n",
    "3. Créer une variable `FamilySize` qui est correspond à `SibSp` + `Parch` + 1. Supprimez les variables `SibSp` et `Parch`.\n",
    "4. Recalculer le prix du billet `Fare` en divisant `Fare` par `FamilySize`.\n",
    "5. Encoder les variables qualitatives `Sex`, `Embarked` avec l'argument `drop_first=True`."
   ]
  },
  {
   "cell_type": "code",
   "execution_count": 3,
   "id": "d4299600",
   "metadata": {},
   "outputs": [],
   "source": [
    "def preprocess(data: pd.DataFrame) -> pd.DataFrame:\n",
    "    \n",
    "    \"\"\"La fonction prépare les données à l'analyse.\n",
    "    \n",
    "    Args:\n",
    "        data (pd.DataFrame): La dataframe originale\n",
    "        \n",
    "    Returns:\n",
    "        pd.DataFrame: La dataframe preprocessé et prête à être analysée.\n",
    "    \"\"\"\n",
    "    \n",
    "    # Faire une copy de la dataframe originale\n",
    "    data_preprocessed = data.copy()\n",
    "    \n",
    "    # Supprimez les variables `PassengerId`, `Name`, `Ticket` & `Cabin`\n",
    "    data_preprocessed.drop(columns=[\"PassengerId\", \"Name\", \"Ticket\", \"Cabin\"], inplace=True)\n",
    "    \n",
    "    # Supprimez lignes contenant au moins une valeur manquante\n",
    "    data_preprocessed.dropna(inplace=True)\n",
    "    \n",
    "    # Créer une variable `FamilySize` et supprimez les variables `SibSp` et `Parch`\n",
    "    data_preprocessed[\"FamilySize\"] = data_preprocessed[\"SibSp\"] + data_preprocessed[\"Parch\"] + 1\n",
    "    data_preprocessed.drop(columns=[\"SibSp\", \"Parch\"], inplace=True)\n",
    "    \n",
    "    # Recalculer le prix du billet\n",
    "    data_preprocessed[\"Fare\"] = data_preprocessed[\"Fare\"] / data_preprocessed[\"FamilySize\"]\n",
    "    \n",
    "    # Encode (OHE) `Sex` & `Embarked`\n",
    "    data_preprocessed = pd.get_dummies(data_preprocessed, columns=[\"Sex\", \"Embarked\"], drop_first=True)\n",
    "    \n",
    "    # CHECK: NE PAS TOUCHER\n",
    "    for col in [\"PassengerId\", \"Name\", \"Ticket\", \"Cabin\", \"SibSp\", \"Parch\"]:\n",
    "        assert col not in data_preprocessed, f\"{col} n'a pas été retiré.\"\n",
    "    assert data_preprocessed.isna().sum().sum() == 0, \"Il reste encore des NaN à supprimer.\"\n",
    "    assert \"FamilySize\" in data_preprocessed.columns, \"La colonne `FamilySize` n'a pas été créée.\"\n",
    "    assert data_preprocessed.loc[0, \"Fare\"] == 3.625, \"La colonne `Fare` n'a pas été recalculée.\"\n",
    "    for col in [col for col in data_preprocessed if col.startswith(\"Embarked\")]:\n",
    "        assert data_preprocessed[col].nunique() == 2, f\"{col} n'a pas été encodé.\"\n",
    "    for col in [col for col in data_preprocessed if col.startswith(\"Sex\")]:\n",
    "        assert data_preprocessed[col].nunique() == 2, f\"{col} n'a pas été encodé.\"\n",
    "    \n",
    "    return data_preprocessed"
   ]
  },
  {
   "cell_type": "markdown",
   "id": "35ca88d2",
   "metadata": {},
   "source": [
    "Le résultat de la function doit vous donner exactement le tableau ci-dessous."
   ]
  },
  {
   "cell_type": "code",
   "execution_count": 4,
   "id": "53b7ef06",
   "metadata": {},
   "outputs": [
    {
     "data": {
      "text/html": [
       "<div>\n",
       "<style scoped>\n",
       "    .dataframe tbody tr th:only-of-type {\n",
       "        vertical-align: middle;\n",
       "    }\n",
       "\n",
       "    .dataframe tbody tr th {\n",
       "        vertical-align: top;\n",
       "    }\n",
       "\n",
       "    .dataframe thead th {\n",
       "        text-align: right;\n",
       "    }\n",
       "</style>\n",
       "<table border=\"1\" class=\"dataframe\">\n",
       "  <thead>\n",
       "    <tr style=\"text-align: right;\">\n",
       "      <th></th>\n",
       "      <th>Survived</th>\n",
       "      <th>Pclass</th>\n",
       "      <th>Age</th>\n",
       "      <th>Fare</th>\n",
       "      <th>FamilySize</th>\n",
       "      <th>Sex_male</th>\n",
       "      <th>Embarked_Q</th>\n",
       "      <th>Embarked_S</th>\n",
       "    </tr>\n",
       "  </thead>\n",
       "  <tbody>\n",
       "    <tr>\n",
       "      <th>0</th>\n",
       "      <td>0</td>\n",
       "      <td>3</td>\n",
       "      <td>22.0</td>\n",
       "      <td>3.625000</td>\n",
       "      <td>2</td>\n",
       "      <td>True</td>\n",
       "      <td>False</td>\n",
       "      <td>True</td>\n",
       "    </tr>\n",
       "    <tr>\n",
       "      <th>1</th>\n",
       "      <td>1</td>\n",
       "      <td>1</td>\n",
       "      <td>38.0</td>\n",
       "      <td>35.641650</td>\n",
       "      <td>2</td>\n",
       "      <td>False</td>\n",
       "      <td>False</td>\n",
       "      <td>False</td>\n",
       "    </tr>\n",
       "    <tr>\n",
       "      <th>2</th>\n",
       "      <td>1</td>\n",
       "      <td>3</td>\n",
       "      <td>26.0</td>\n",
       "      <td>7.925000</td>\n",
       "      <td>1</td>\n",
       "      <td>False</td>\n",
       "      <td>False</td>\n",
       "      <td>True</td>\n",
       "    </tr>\n",
       "    <tr>\n",
       "      <th>3</th>\n",
       "      <td>1</td>\n",
       "      <td>1</td>\n",
       "      <td>35.0</td>\n",
       "      <td>26.550000</td>\n",
       "      <td>2</td>\n",
       "      <td>False</td>\n",
       "      <td>False</td>\n",
       "      <td>True</td>\n",
       "    </tr>\n",
       "    <tr>\n",
       "      <th>4</th>\n",
       "      <td>0</td>\n",
       "      <td>3</td>\n",
       "      <td>35.0</td>\n",
       "      <td>8.050000</td>\n",
       "      <td>1</td>\n",
       "      <td>True</td>\n",
       "      <td>False</td>\n",
       "      <td>True</td>\n",
       "    </tr>\n",
       "    <tr>\n",
       "      <th>...</th>\n",
       "      <td>...</td>\n",
       "      <td>...</td>\n",
       "      <td>...</td>\n",
       "      <td>...</td>\n",
       "      <td>...</td>\n",
       "      <td>...</td>\n",
       "      <td>...</td>\n",
       "      <td>...</td>\n",
       "    </tr>\n",
       "    <tr>\n",
       "      <th>885</th>\n",
       "      <td>0</td>\n",
       "      <td>3</td>\n",
       "      <td>39.0</td>\n",
       "      <td>4.854167</td>\n",
       "      <td>6</td>\n",
       "      <td>False</td>\n",
       "      <td>True</td>\n",
       "      <td>False</td>\n",
       "    </tr>\n",
       "    <tr>\n",
       "      <th>886</th>\n",
       "      <td>0</td>\n",
       "      <td>2</td>\n",
       "      <td>27.0</td>\n",
       "      <td>13.000000</td>\n",
       "      <td>1</td>\n",
       "      <td>True</td>\n",
       "      <td>False</td>\n",
       "      <td>True</td>\n",
       "    </tr>\n",
       "    <tr>\n",
       "      <th>887</th>\n",
       "      <td>1</td>\n",
       "      <td>1</td>\n",
       "      <td>19.0</td>\n",
       "      <td>30.000000</td>\n",
       "      <td>1</td>\n",
       "      <td>False</td>\n",
       "      <td>False</td>\n",
       "      <td>True</td>\n",
       "    </tr>\n",
       "    <tr>\n",
       "      <th>889</th>\n",
       "      <td>1</td>\n",
       "      <td>1</td>\n",
       "      <td>26.0</td>\n",
       "      <td>30.000000</td>\n",
       "      <td>1</td>\n",
       "      <td>True</td>\n",
       "      <td>False</td>\n",
       "      <td>False</td>\n",
       "    </tr>\n",
       "    <tr>\n",
       "      <th>890</th>\n",
       "      <td>0</td>\n",
       "      <td>3</td>\n",
       "      <td>32.0</td>\n",
       "      <td>7.750000</td>\n",
       "      <td>1</td>\n",
       "      <td>True</td>\n",
       "      <td>True</td>\n",
       "      <td>False</td>\n",
       "    </tr>\n",
       "  </tbody>\n",
       "</table>\n",
       "<p>712 rows × 8 columns</p>\n",
       "</div>"
      ],
      "text/plain": [
       "     Survived  Pclass   Age       Fare  FamilySize  Sex_male  Embarked_Q  \\\n",
       "0           0       3  22.0   3.625000           2      True       False   \n",
       "1           1       1  38.0  35.641650           2     False       False   \n",
       "2           1       3  26.0   7.925000           1     False       False   \n",
       "3           1       1  35.0  26.550000           2     False       False   \n",
       "4           0       3  35.0   8.050000           1      True       False   \n",
       "..        ...     ...   ...        ...         ...       ...         ...   \n",
       "885         0       3  39.0   4.854167           6     False        True   \n",
       "886         0       2  27.0  13.000000           1      True       False   \n",
       "887         1       1  19.0  30.000000           1     False       False   \n",
       "889         1       1  26.0  30.000000           1      True       False   \n",
       "890         0       3  32.0   7.750000           1      True        True   \n",
       "\n",
       "     Embarked_S  \n",
       "0          True  \n",
       "1         False  \n",
       "2          True  \n",
       "3          True  \n",
       "4          True  \n",
       "..          ...  \n",
       "885       False  \n",
       "886        True  \n",
       "887        True  \n",
       "889       False  \n",
       "890       False  \n",
       "\n",
       "[712 rows x 8 columns]"
      ]
     },
     "metadata": {},
     "output_type": "display_data"
    }
   ],
   "source": [
    "# Preprocess les données à l'aide de la function `preprocess`\n",
    "data_clean = preprocess(data)\n",
    "display(data_clean)"
   ]
  },
  {
   "cell_type": "markdown",
   "id": "5a1091b1",
   "metadata": {},
   "source": [
    "## 2. Inférence statistique (4 pts)"
   ]
  },
  {
   "cell_type": "markdown",
   "id": "93fdb7b6",
   "metadata": {},
   "source": [
    "### Q1: L'âge moyen des passagers du Titanic est-il le même que l'âge moyen de la population en 1912 (28 ans) ?\n",
    "\n",
    "#### 1.1 Identifier la ou les variables d’intérêt et spécifier le type\n",
    "La variable d'intérêt est la suivante : \n",
    " - **Age** : variable qui indique l'âge de chaque passager\n",
    "\n",
    "Type de la variable :\n",
    " - **Age** : quantitative continue\n",
    "\n",
    "#### 1.2 Réaliser une visualisation appropriée selon la ou les variables\n",
    "Pour cette question, nous avons choisi d’utiliser un histogramme car ce dernier est généralement adapté pour les variables quantitatives. Il nous permettra d’avoir un visuel sur la répartition des âges."
   ]
  },
  {
   "cell_type": "code",
   "execution_count": 5,
   "id": "144bebdd",
   "metadata": {},
   "outputs": [
    {
     "data": {
      "image/png": "[encoded data removed]",
      "text/plain": [
       "<Figure size 500x500 with 1 Axes>"
      ]
     },
     "metadata": {},
     "output_type": "display_data"
    }
   ],
   "source": [
    "# Histogramme de l'âge des passagers\n",
    "sns.displot(\n",
    "    data=data_clean,\n",
    "    x=\"Age\",\n",
    "    kde=True # courbe d'estimation\n",
    ")\n",
    "plt.ylabel('Fréquence')\n",
    "plt.title('Distribution de l\\'âge des passagers')\n",
    "plt.show()"
   ]
  },
  {
   "cell_type": "markdown",
   "id": "8218ae0e",
   "metadata": {},
   "source": [
    "#### 1.3 Enoncer une hypothèse nulle et une hypothèse alternative considérant la ou les variables identifiées.\n",
    "Notre hypothèse nulle (H<sub>0</sub>) est la suivante : L’âge moyen des passagers du Titanic est égal à 28 ans, ce qui représente l’âge moyen de la population en 1912.\n",
    "\n",
    "**H<sub>0</sub> : μ = 28**\n",
    "\n",
    "Notre hypothèse alternative (H<sub>1</sub>) est la suivante : L’âge moyen des passagers du Titanic n’est pas égal à 28 ans, ce qui représente l’âge moyen de la population en 1912.\n",
    "\n",
    "**H<sub>1</sub> : μ =/= 28**\n",
    "\n",
    "#### 1.4 Identifier le test statistique approprié selon les hypothèses énoncées\n",
    "\n",
    "Selon nous, le test statistique approprié est le t-test pour un échantillon. Ce test nous permettra de comparer la moyenne de l’échantillon avec notre valeur donnée (28 ans) afin de savoir si elle diffère de manière significative.\n",
    "Comme la variance de la population est inconnue, le z-test ne peut pas être utilisé. Le t-test, lui, est parfait dans ce contexte car il repose sur une estimation.\n",
    "\n",
    "#### 1.5 Vérifier la validation des assomptions selon le test identifié\n",
    "Concernant le t-test, les assomptions sont les suivantes :\n",
    " - L'échantillon est aléatoire\n",
    " - La taille de l'échantillon est supérieure à 30 ou la population est normalement distribuée\n",
    "\n",
    "L'échantillon possède bien plus de 30 valeurs dans notre cas, car notre jeu de données possède la moitié des passagers du Titanic selon l'Encyclopedia Titanica.\n",
    "Nous n'avons pas plus d'informations sur la sélection des passagers, mais on estime que cet échantillon est aléatoire.\n",
    "\n",
    "Source : https://campus.lakeforest.edu/frank/FILES/MLFfiles/Bio150/Titanic/TitanicMETA.pdf\n",
    "\n",
    "#### 1.6 Calculer la statistique ainsi que la p-valeur\n",
    "Selon la formule suivante nous permettant de calculer la statistique t :\n",
    "$$ t = \\frac{\\bar{X} - \\mu}{s / \\sqrt{n}} $$"
   ]
  },
  {
   "cell_type": "code",
   "execution_count": 6,
   "id": "6f14a502",
   "metadata": {},
   "outputs": [
    {
     "name": "stdout",
     "output_type": "stream",
     "text": [
      "La statistique t est : 3.0233009800374053\n",
      "La p-valeur est : 0.002590259537786662\n"
     ]
    }
   ],
   "source": [
    "# Variables\n",
    "sample_mean = np.mean(data_clean[\"Age\"]) # la moyenne de l'échantillon\n",
    "sample_std = np.std(data_clean[\"Age\"], ddof=1) # l'écart type de la population est inconnue\n",
    "mu = 28 # la moyenne de la population est supposée être 28\n",
    "n = len(data_clean[\"Age\"]) # la taille de l'échantillon\n",
    "\n",
    "# Calcul de la statistique t\n",
    "t = (sample_mean - mu)/(sample_std / np.sqrt(n))\n",
    "\n",
    "print(\"La statistique t est :\", t)\n",
    "\n",
    "# Calcul de la p-valeur\n",
    "p_valeur = stats.t.cdf(-abs(t), df=n-1) * 2\n",
    "\n",
    "print(\"La p-valeur est :\", p_valeur)"
   ]
  },
  {
   "cell_type": "markdown",
   "id": "db3ea719",
   "metadata": {},
   "source": [
    "#### 1.7 Prendre une décision à partir de la p-valeur et d'un seuil alpha de 5%\n",
    "\n",
    "Le seuil est défini via la variable \"alpha\" (0.05).\n",
    "Le calcul est fait directement entre la \"p_valeur\" du point précédent et \"alpha\" afin de rejetter ou non l'hypothèse nulle."
   ]
  },
  {
   "cell_type": "code",
   "execution_count": 7,
   "id": "7594d8ab",
   "metadata": {},
   "outputs": [
    {
     "name": "stdout",
     "output_type": "stream",
     "text": [
      "Avec un seuil alpha 0.05 on rejette l'hypothèse nulle.\n"
     ]
    }
   ],
   "source": [
    "# Seuil alpha\n",
    "alpha = 0.05\n",
    "\n",
    "# Si p-valeur < alpha, on rejète l'hypothèse nulle\n",
    "if p_valeur < alpha:\n",
    "    print(\"Avec un seuil alpha\", str(alpha), \"on rejette l'hypothèse nulle.\")\n",
    "    \n",
    "# Si p-valeur > alpha, on échoue à rejetter l'hypothèse nulle\n",
    "else:\n",
    "    print(\"Avec un seuil alpha\", str(alpha), \"on échoue à rejetter l'hypothèse nulle.\")"
   ]
  },
  {
   "cell_type": "markdown",
   "id": "4d240b47",
   "metadata": {},
   "source": [
    "#### 1.8 Interpréter le résultat et évaluer la taille de l'effet\n",
    "\n",
    "Le test statistique mené montre que l'âge moyen des passagers du Titanic est significativement différent de l'âge moyen de la population en 1912. \n",
    "\n",
    "On a obtenu une statistique t de 3.02 et une p-valeur de 0.0026, ce qui est bien en dessous du seuil de 5%. Cela signifie qu'on peut rejeter l'hypothèse nulle avec un niveau de confiance de 95%. En conclusion, on peut dire que l'âge moyen des passagers n'était pas la même que celui de la population générale à cette époque.\n",
    "\n",
    "Par contre, il faut aussi réfléchir à l'importance de cette différence dans la vraie vie, c'est pourquoi on cherche à connaître la taille de l'effet. \n",
    "\n",
    "Comme nous avons utilisé un t-test, on utilise le calcul de Cohen's d qui mesure l'ampleur de la différence entre deux moyennes en termes d'écarts-types:\n",
    "$$ d = \\frac{\\bar{X} - \\mu}{s} $$\n",
    "\n",
    "Ce calcul permet de savoir si cette différence est petite, moyenne ou grande:\n",
    "* si < 0.2 : la différence n'a pas de grande importance pratique\n",
    "* entre 0.2 et 0.8 : la différence a un impact moyen\n",
    "*  si > 0.8 : la différence a un vrai impact\n",
    "\n",
    "Voici le calcul mené :"
   ]
  },
  {
   "cell_type": "code",
   "execution_count": 8,
   "id": "bc2d318e",
   "metadata": {},
   "outputs": [
    {
     "name": "stdout",
     "output_type": "stream",
     "text": [
      "Avec une taille de l'effet à 0.11330299449551398 on considère l'effet comme faible.\n"
     ]
    }
   ],
   "source": [
    "# Variables\n",
    "small = 0.2 # faible différence selon Cohen's\n",
    "high = 0.8 # grande différence selon Cohen's\n",
    "\n",
    "# Calcul de Cohen's\n",
    "d = (sample_mean - mu)/sample_std\n",
    "\n",
    "# Différence\n",
    "if d < small:\n",
    "    print(\"Avec une taille de l'effet à\", str(d), \"on considère l'effet comme faible.\")\n",
    "elif d > high:\n",
    "    print(\"Avec une taille de l'effet à\", str(d), \"on considère l'effet comme importante.\")\n",
    "else:\n",
    "    print(\"Avec une taille de l'effet à\", str(d), \"on considère l'effet comme moyenne.\")"
   ]
  },
  {
   "cell_type": "markdown",
   "id": "c6d25dc4",
   "metadata": {},
   "source": [
    "L'analyse montre que, même si la différence entre l'âge moyen des passagers du Titanic et celui de la population en 1912 est statistiquement significative, la taille de l'effet est faible. Cela signifie que, dans la pratique, cette différence n'a probablement pas de grande importance ou d'impact réel.\n",
    "\n",
    "Cela s'explique par l'échantillon très grand où de petites différences peuvent devenir significatives, car il y a beaucoup de données pour détecter des variations, mais cela ne garantit pas un réel impact.\n",
    "En effet, si on tient compte de la quantité de données, on se rend compte que la population est très diversifiée dans le Titanic, répartie en trois classes distinctes:\n",
    "* **Première classe**: composée principalement de passagers fortunés, souvent plus âgés\n",
    "* **Deuxième classe**: la classe moyenne était d'une moyenne d'âge intermédiaire\n",
    "* **Troisième classe**: principalement des familles et des jeunes\n",
    "\n",
    "Par conséquent, oui il y a une différence, mais trop petite dans la réalité."
   ]
  },
  {
   "cell_type": "markdown",
   "id": "7ec7b55f",
   "metadata": {},
   "source": [
    "### Q2: La survie dépend-elle de la classe du passager ?\n",
    "\n",
    "#### 2.1 Identifier la ou les variables d’intérêt et spécifier le type\n",
    "Les variables d'intérêts sont les suivantes : \n",
    " - **Survived** : variable qui nous indique si la personne a survécu ou non (0 = morte, 1 = survécu)\n",
    " - **Pclass** : variable qui nous indique la classe de la personne (1 = Première classe, 2 = Deuxième classe, 3 = Troisième classe)\n",
    "\n",
    "Type des variables :\n",
    " - **Survived** : qualitative binaire\n",
    " - **Pclass** : qualitative ordinale (trois valeurs différentes pouvant être hierarchisées)\n",
    "\n",
    "\n",
    "#### 2.2 Réaliser une visualisation appropriée selon la ou les variables\n",
    "Pour cette question, nous avons décidé d'utiliser un diagramme à barres groupées (grouped bar chart). Ce dernier est très efficace lors de la relation entre deux variables qualitatives. Cela nous permet d'avoir trois groupes de barres (les classes) qui contiennent chaucun 2 barres (les personnes qui ont survécu ou non)."
   ]
  },
  {
   "cell_type": "code",
   "execution_count": 9,
   "id": "0f4c55ca",
   "metadata": {},
   "outputs": [
    {
     "data": {
      "image/png": "[encoded data removed]",
      "text/plain": [
       "<Figure size 640x480 with 1 Axes>"
      ]
     },
     "metadata": {},
     "output_type": "display_data"
    }
   ],
   "source": [
    "# Grouped bar chart de la survie en fonction de la classe\n",
    "sns.countplot(data=data_clean, x='Pclass', hue='Survived')\n",
    "plt.title('Survie en fonction de la classe')\n",
    "plt.xlabel('Classe du passager')\n",
    "plt.ylabel('Nombre de passagers')\n",
    "plt.legend(title='Survécu', labels=['Non', 'Oui'])\n",
    "plt.show()"
   ]
  },
  {
   "cell_type": "markdown",
   "id": "99fe71b6",
   "metadata": {},
   "source": [
    "#### 2.3 Enoncer une hypothèse nulle et une hypothèse alternative considérant la ou les variables identifiées.\n",
    "Notre hypothèse nulle (H<sub>0</sub>) est la suivante : La survie est indépendante de la classe du passager.\n",
    "\n",
    "**H<sub>0</sub> : P(Survived ∩ Pclass) = P(Survived) x P(Pclass)**\n",
    "\n",
    "Notre hypothèse alternative (H<sub>1</sub>) est la suivante : La survie dépend de la classe du passager.\n",
    "\n",
    "**H<sub>1</sub> : P(Survived ∩ Pclass) =/= P(Survived) x P(Pclass)**\n",
    "\n",
    "#### 2.4 Identifier le test statistique approprié selon les hypothèses énoncées\n",
    "Dans cette situation, le test du Chi-carré d’indépendance (Chi-Square independence test) est le plus approprié, car il permet de déterminer si des variables catégoriques sont indépendentes les unes des autres.\n",
    "\n",
    "#### 2.5 Vérifier la validation des assomptions selon le test identifié\n",
    "Concernant le test sélectionné, nous devons vérifier deux assomptions : \n",
    "- Les échantillons sont aléatoires\n",
    "- Pour chaque combinaison des niveaux des variables, nous avons besoin d’au moins 5 valeurs\n",
    "\n",
    "Comme pour la question précédente, nous allons partir sur le principe que les échantillons sont aléatoires. Le code ci-dessous nous valide le deuxième point."
   ]
  },
  {
   "cell_type": "code",
   "execution_count": 10,
   "id": "7ee3c387",
   "metadata": {},
   "outputs": [
    {
     "name": "stdout",
     "output_type": "stream",
     "text": [
      "Effectifs théoriques dans chaque cellule du tableau :\n",
      "[[109.57303371  74.42696629]\n",
      " [103.02247191  69.97752809]\n",
      " [211.40449438 143.59550562]]\n"
     ]
    }
   ],
   "source": [
    "# Tableau de contingence\n",
    "contingency_table = pd.crosstab(data_clean['Pclass'], data_clean['Survived'])\n",
    "\n",
    "# Effectifs théoriques dans chaque cellule du tableau\n",
    "chi2, p, dof, expected = stats.chi2_contingency(contingency_table)\n",
    "print(\"Effectifs théoriques dans chaque cellule du tableau :\")\n",
    "print(expected)"
   ]
  },
  {
   "cell_type": "markdown",
   "id": "e46e9c07",
   "metadata": {},
   "source": [
    "#### 2.6 Calculer la statistique ainsi que la p-valeur\n",
    "Selon la formule suivante nous permettant de calculer la statistique :\n",
    "$$ \\chi^2 = \\sum \\frac{(O - E)^2}{E} $$"
   ]
  },
  {
   "cell_type": "code",
   "execution_count": 11,
   "id": "79558ccd",
   "metadata": {},
   "outputs": [
    {
     "name": "stdout",
     "output_type": "stream",
     "text": [
      "La statistique est : 91.08074548791019\n",
      "La p-valeur est : 1.6675060315554636e-20\n",
      "Degrés de liberté : 2\n"
     ]
    }
   ],
   "source": [
    "# Test du Chi-carré\n",
    "chi2_stat, p_val, dof, ex = stats.chi2_contingency(contingency_table)\n",
    "\n",
    "print(\"La statistique est :\", chi2_stat)\n",
    "print(\"La p-valeur est :\", p_val)\n",
    "print(\"Degrés de liberté :\", dof)"
   ]
  },
  {
   "cell_type": "markdown",
   "id": "9f01a54d",
   "metadata": {},
   "source": [
    "#### 2.7 Prendre une décision à partir de la p-valeur et d'un seuil alpha de 5%\n",
    "\n",
    "Le seuil est défini via la variable \"alpha\" (0.05).\n",
    "Le calcul est fait directement entre la \"p_valeur\" du point précédent et \"alpha\" afin de rejetter ou non l'hypothèse nulle."
   ]
  },
  {
   "cell_type": "code",
   "execution_count": 12,
   "id": "a1bbefcc",
   "metadata": {},
   "outputs": [
    {
     "name": "stdout",
     "output_type": "stream",
     "text": [
      "Avec un seuil alpha 0.05 on rejette l'hypothèse nulle.\n"
     ]
    }
   ],
   "source": [
    "# Seuil alpha\n",
    "alpha = 0.05\n",
    "\n",
    "# Si p-valeur < alpha, on rejète l'hypothèse nulle\n",
    "if p_valeur < alpha:\n",
    "    print(\"Avec un seuil alpha\", str(alpha), \"on rejette l'hypothèse nulle.\")\n",
    "    \n",
    "# Si p-valeur > alpha, on ne rejète pas l'hypothèse nulle\n",
    "else:\n",
    "    print(\"Avec un seuil alpha\", str(alpha), \"on ne rejette pas l'hypothèse nulle.\")"
   ]
  },
  {
   "cell_type": "markdown",
   "id": "ec8acb93",
   "metadata": {},
   "source": [
    "#### 2.8 Interpréter le résultat et évaluer la taille de l'effet\n",
    "\n",
    "Le résultats démontrent une forte association entre la classe du passager et sa probabilité de survie. \n",
    "\n",
    "En plus de la significativité statistique, la taille de l'effet est importante pour comprendre l'ampleur de cette dépendance entre la classe et la survie. Pour calculer cela, on utilise le V de Cramer, c'est une mesure de la force de l'association entre les variables qui convient mieux au test du Chi-carré :\n",
    "$$ V = \\sqrt{\\frac{\\chi^2}{n \\cdot \\min(k-1, r-1)}} $$\n",
    "\n",
    "Un V de Cramer proche de 0 indique une faible relation ainsi qu'un V proche de 1 indique une forte relation."
   ]
  },
  {
   "cell_type": "code",
   "execution_count": 13,
   "id": "c847e8a8",
   "metadata": {},
   "outputs": [
    {
     "name": "stdout",
     "output_type": "stream",
     "text": [
      "Avec un V de Cramer à 0.35766240415815087 on considère la relation comme importante.\n"
     ]
    }
   ],
   "source": [
    "# Variables\n",
    "n = contingency_table.sum().sum()  # Taille de l'échantillon\n",
    "k = contingency_table.shape[0]  # Nombre de catégories de la variable Pclass (3 classes)\n",
    "r = contingency_table.shape[1]  # Nombre de catégories de la variable Survived (2 valeurs : Oui/Non)\n",
    "\n",
    "# Calcul du V de Cramer\n",
    "v_cramer = np.sqrt(chi2_stat / (n * min(k - 1, r - 1)))\n",
    "\n",
    "# Interprétation\n",
    "if v_cramer < 0.1:\n",
    "    print(\"Avec un V de Cramer à\", str(v_cramer), \"on considère la relation comme faible.\")\n",
    "elif v_cramer > 0.3:    \n",
    "    print(\"Avec un V de Cramer à\", str(v_cramer), \"on considère la relation comme importante.\")\n",
    "else:    \n",
    "    print(\"Avec un V de Cramer à\", str(v_cramer), \"on considère la relation comme modérée.\")"
   ]
  },
  {
   "cell_type": "markdown",
   "id": "97fe73f5",
   "metadata": {},
   "source": [
    "Ce calcul démontre que non seulement la classe du passager a une influence statistiquement significative sur la survie, mais que l'impact de cette variable est important dans le contexte réel.\n",
    "\n",
    "Dans le contexte historique, ça s'explique par la **priorité donnée aux passagers de première classe** qui ont eu un accès prioritaire aux canots de sauvetage, en raison de leur statut social et de leur influence. Une autre raison est que les passagers de troisième classe étaient logés dans des sections du navire plus difficiles d'accès, ils n'ont pas eu d'accès rapide aux canots de sauvetage. "
   ]
  },
  {
   "cell_type": "markdown",
   "id": "6dba1f3c",
   "metadata": {},
   "source": [
    "### Q3: Existe-t-il une différence d'âge entre les passagers qui ont survécu et les passagers décédés ?\n",
    "\n",
    "#### 3.1 Identifier la ou les variables d’intérêt et spécifier le type\n",
    "Les variables d'intérêts sont les suivantes : \n",
    " - **Age** : variable qui nous indique l'âge de chaque passager\n",
    " - **Survived** : variable qui nous indique si la personne a survécu ou non (0 = morte, 1 = survécu)\n",
    "\n",
    "Type des variables :\n",
    " - **Age** : quantitative continue\n",
    " - **Survived** : qualitative binaire\n",
    "\n",
    "#### 3.2 Réaliser une visualisation appropriée selon la ou les variables\n",
    "Pour cette question, nous avons sélectionné un diagramme \"boxplot\", car ce dernier est recommandé lorsqu'il y a une relation entre une variable qualitative et une variable quantitative."
   ]
  },
  {
   "cell_type": "code",
   "execution_count": 14,
   "id": "c92153a8",
   "metadata": {},
   "outputs": [
    {
     "data": {
      "image/png": "[encoded data removed]",
      "text/plain": [
       "<Figure size 640x480 with 1 Axes>"
      ]
     },
     "metadata": {},
     "output_type": "display_data"
    }
   ],
   "source": [
    "# Boxplot de l'âge des passagers selon leur survie\n",
    "sns.boxplot(data=data_clean, x='Survived', y='Age')\n",
    "plt.title('Âge des passagers selon leur survie')\n",
    "plt.xlabel('Survécu')\n",
    "plt.ylabel('Âge')\n",
    "plt.show()"
   ]
  },
  {
   "cell_type": "markdown",
   "id": "464af66b",
   "metadata": {},
   "source": [
    "#### 3.3 Enoncer une hypothèse nulle et une hypothèse alternative considérant la ou les variables identifiées.\n",
    "Notre hypothèse nulle (H<sub>0</sub>) est la suivante : L’âge moyen des passagers survivants est égal à l’âge moyen des passagers décédés.\n",
    "\n",
    "**H<sub>0</sub> : μ<sub>Survécu</sub> =  μ<sub>Décédé</sub>**\n",
    "\n",
    "Notre hypothèse alternative (H<sub>1</sub>) est la suivante : L’âge moyen des passagers survivants est différent de l’âge moyen des passagers décédés.\n",
    "\n",
    "**H<sub>1</sub> : μ<sub>Survécu</sub> =/=  μ<sub>Décédé</sub>**\n",
    "\n",
    "#### 3.4 Identifier le test statistique approprié selon les hypothèses énoncées\n",
    "Selon nous, le test approprié est le t-test à deux échantillons (two-sample t-test), car ce dernier nous permet de comparer deux moyennes d'une population. Généralement cette population est inconnue, bien qu'elle soit connue dans notre exercice, ce test devrait tout de même fonctionner.\n",
    "\n",
    "#### 3.5 Vérifier la validation des assomptions selon le test identifié\n",
    "Les assomptions à vérifier sont les suivantes :\n",
    " - Les échantillons sont aléatoires.\n",
    " - Les échantillons sont indépendants les uns des autres.\n",
    " - La taille des échantillons est supérieure à 30, ou les populations sont normalement distribuées.\n",
    "\n",
    "Comme pour les questions précédentes, nous allons partir sur le principe que les échantillons sont aléatoires. Le code ci-dessous nous valide les deux autres points."
   ]
  },
  {
   "cell_type": "code",
   "execution_count": 15,
   "id": "b157e6c6",
   "metadata": {},
   "outputs": [
    {
     "name": "stdout",
     "output_type": "stream",
     "text": [
      "Avec un seuil alpha 0.05 les variances peuvent être considérées comme égales.\n",
      "----------------------------\n",
      "Taille du groupe des survivants : 288\n",
      "Taille du groupe des morts : 424\n"
     ]
    }
   ],
   "source": [
    "# Variables\n",
    "group_survived = data_clean[data_clean['Survived'] == 1]['Age']\n",
    "group_died = data_clean[data_clean['Survived'] == 0]['Age']\n",
    "\n",
    "# Test de Levene pour l'égalité des variances\n",
    "stat, p_value = stats.levene(group_survived, group_died)\n",
    "\n",
    "# Seuil alpha\n",
    "alpha = 0.05\n",
    "\n",
    "# Si p-valeur < alpha, les variances ne peuvent pas être considérées comme égales\n",
    "if p_value < alpha:\n",
    "    print(\"Avec un seuil alpha\", str(alpha), \"les variances ne peuvent pas être considérées comme égales.\")\n",
    "\n",
    "# Si p-valeur > alpha, les variances peuvent être considérées comme égales\n",
    "else:\n",
    "    print(\"Avec un seuil alpha\", str(alpha), \"les variances peuvent être considérées comme égales.\")\n",
    "\n",
    "print (f'----------------------------')\n",
    "print(f'Taille du groupe des survivants :', len(group_survived))\n",
    "print(f'Taille du groupe des morts :', len(group_died))"
   ]
  },
  {
   "cell_type": "markdown",
   "id": "7ac2c68c",
   "metadata": {},
   "source": [
    "#### 3.6 Calculer la statistique ainsi que la p-valeur\n",
    "Selon la formule suivante pour calculer la statistique t pour 2 échantillons :\n",
    "$$ t = \\frac{(\\bar{X_1} - \\bar{X_2}) - (\\mu_1 - \\mu_2)}{\\sqrt{\\frac{s_{1}^2}{n_1} + \\frac{s_{2}^2}{n_2}}} $$"
   ]
  },
  {
   "cell_type": "code",
   "execution_count": 16,
   "id": "58f2d730",
   "metadata": {},
   "outputs": [
    {
     "name": "stdout",
     "output_type": "stream",
     "text": [
      "La statistique t est de : -2.184486214939826\n",
      "La p-valeur associée est de : 0.02931497754601072\n"
     ]
    }
   ],
   "source": [
    "# Calcul de la statistique t et la p-valeur\n",
    "t, p_valeur = stats.ttest_ind(\n",
    "    group_survived,\n",
    "    group_died,\n",
    "    alternative=\"two-sided\",\n",
    "    equal_var=False\n",
    ")\n",
    "\n",
    "print(\"La statistique t est de : \" + str(t))\n",
    "print(\"La p-valeur associée est de : \" + str(p_valeur))"
   ]
  },
  {
   "cell_type": "markdown",
   "id": "e1e7a383",
   "metadata": {},
   "source": [
    "#### 3.7 Prendre une décision à partir de la p-valeur et d'un seuil alpha de 5%\n",
    "\n",
    "Le seuil est défini via la variable \"alpha\" (0.05).\n",
    "Le calcul est fait directement entre la \"p_valeur\" du point précédent et \"alpha\" afin de rejetter ou non l'hypothèse nulle."
   ]
  },
  {
   "cell_type": "code",
   "execution_count": 17,
   "id": "27c9bebe",
   "metadata": {},
   "outputs": [
    {
     "name": "stdout",
     "output_type": "stream",
     "text": [
      "Avec un seuil alpha 0.05 on rejète l'hypothèse nulle.\n"
     ]
    }
   ],
   "source": [
    "# Si p-valeur < alpha, on rejète l'hypothèse nulle\n",
    "if p_valeur < alpha:\n",
    "    print(\"Avec un seuil alpha\", str(alpha), \"on rejète l'hypothèse nulle.\")\n",
    "    \n",
    "# Si p-valeur > alpha, on ne rejète pas l'hypothèse nulle\n",
    "else:\n",
    "    print(\"Avec un seuil alpha\", str(alpha), \"on ne rejète pas l'hypothèse nulle.\")"
   ]
  },
  {
   "cell_type": "markdown",
   "id": "2358963f",
   "metadata": {},
   "source": [
    "#### 3.8 Interpréter le résultat et évaluer la taille de l'effet\n",
    "\n",
    "Pour évaluer la taille de l'effet pour deux échantillons indépendants, on utilise Cohen's d, voici sa formule :\n",
    "\n",
    "$$ d = \\frac{M_1 - M_2}{\\text{SD}_{\\text{pooled}}}$$"
   ]
  },
  {
   "cell_type": "code",
   "execution_count": 18,
   "id": "df4f9211",
   "metadata": {},
   "outputs": [
    {
     "name": "stdout",
     "output_type": "stream",
     "text": [
      "Moyenne des survivants : 28.19\n",
      "Moyenne des décédés : 30.63\n",
      "Écart-type combiné : 14.45\n",
      "Taille de l'effet (Cohen's d) : -0.168\n"
     ]
    }
   ],
   "source": [
    "# Moyennes et écarts-types\n",
    "mean_survived = np.mean(group_survived)\n",
    "std_survived = np.std(group_survived, ddof=1)\n",
    "mean_died = np.mean(group_died)\n",
    "std_died = np.std(group_died, ddof=1)\n",
    "\n",
    "# Tailles des échantillons\n",
    "n_survived = len(group_survived)\n",
    "n_died = len(group_died)\n",
    "\n",
    "# Calcul de l'écart-type combiné (SD pooled)\n",
    "sd_pooled = np.sqrt(((n_survived - 1) * std_survived**2 + (n_died - 1) * std_died**2) / (n_survived + n_died - 2))\n",
    "\n",
    "# Calcul de Cohen's d\n",
    "cohens_d = (mean_survived - mean_died) / sd_pooled\n",
    "\n",
    "# Résultats\n",
    "print(f\"Moyenne des survivants : {mean_survived:.2f}\")\n",
    "print(f\"Moyenne des décédés : {mean_died:.2f}\")\n",
    "print(f\"Écart-type combiné : {sd_pooled:.2f}\")\n",
    "print(f\"Taille de l'effet (Cohen's d) : {cohens_d:.3f}\")"
   ]
  },
  {
   "cell_type": "markdown",
   "id": "0826db33",
   "metadata": {},
   "source": [
    "Selon les seuils d'interprétation proposés par Cohen, une taille de l'effet à -0.168 est négligeable. Donc bien que statistiquement significative avec une hypothèse nulle rejetée, la différence d'âge est si petite, qu'elle n'a pas de signification pratique importante.\n",
    "\n",
    "Cela pourrait s'expliquer car malgré les consignes de sauvetage à bord du Titanic \"Women and children first\", cette politique n'a pas toujours été appliquée. La première classe étant plus proche des canots de sauvetage ont pu être sauvés plus facilement, contrairement à la deuxième ou troisième classe largement composée de familles ou de jeunes."
   ]
  },
  {
   "cell_type": "markdown",
   "id": "5425c746",
   "metadata": {},
   "source": [
    "### Q4: Existe-t-il une relation entre l'âge des passagers et le prix des billets ?\n",
    "\n",
    "#### 4.1 Identifier la ou les variables d’intérêt et spécifier le type\n",
    "Les variables d'intérêts sont les suivantes : \n",
    " - **Age** : variable qui indique l'âge de chaque passager\n",
    " - **Fare** : variable qui indique le prix du billet par passager (c'est le prix total pour une famille / divisé par la taille de la famille)\n",
    "\n",
    "Type des variables :\n",
    " - **Age** : quantitative continue\n",
    " - **Fare** : quantitative continue\n",
    "\n",
    "#### 4.2 Réaliser une visualisation appropriée selon la ou les variables\n",
    "Pour une relation entre deux variables quantitatives, nous avons décidé d'utiliser un nuage de points (scatter plot)."
   ]
  },
  {
   "cell_type": "code",
   "execution_count": 19,
   "id": "fe6dcec4",
   "metadata": {},
   "outputs": [
    {
     "data": {
      "image/png": "[encoded data removed]",
      "text/plain": [
       "<Figure size 640x480 with 1 Axes>"
      ]
     },
     "metadata": {},
     "output_type": "display_data"
    }
   ],
   "source": [
    "# Scatter plot de l'âge et du prix des billets\n",
    "sns.scatterplot(data=data_clean, x='Age', y='Fare')\n",
    "sns.regplot(data=data_clean, x='Age', y='Fare', scatter=False, color='red')  # Ligne de régression afin de visualiser la tendance\n",
    "plt.title(\"Relation entre l'âge et le prix des billets\")\n",
    "plt.xlabel(\"Âge\")\n",
    "plt.ylabel(\"Prix des billets\")\n",
    "plt.show()"
   ]
  },
  {
   "cell_type": "markdown",
   "id": "ed5fcf2b",
   "metadata": {},
   "source": [
    "#### 4.3 Enoncer une hypothèse nulle et une hypothèse alternative considérant la ou les variables identifiées.\n",
    "Notre hypothèse nulle (H<sub>0</sub>) est la suivante : Il n’existe pas de relation significative entre l’âge des passagers et le prix des billets.\n",
    "\n",
    "**H<sub>0</sub> : ρ = 0**\n",
    "\n",
    "Notre hypothèse alternative (H<sub>1</sub>) est la suivante : Il existe une relation significative entre l’âge des passagers et le prix des billets.\n",
    "\n",
    "**H<sub>1</sub> : ρ =/= 0**\n",
    "\n",
    "*ρ = coefficient de corrélation de Pearson, il examine la relation entre deux variables et détermine l'influence de l'une sur l'autre.*\n",
    "\n",
    "#### 4.4 Identifier le test statistique approprié selon les hypothèses énoncées\n",
    "Afin d'analyser une relation entre deux variables quantitatives continues, nous nous sommes penchés sur le test de coefficient de corrélation (Pearson). Ce dernier nous permettra d'identifier si les variables sont liées linéairement, ainsi que les évnetuelles nature et force de cette relation.\n",
    "\n",
    " - Relation linéaire faible: ±0.1 – ±0.3\n",
    " - Relation linéaire moyenne: ±0.3 – ±0.6\n",
    " - Relation linéaire forte: ±0.6 – ±1.0\n",
    "\n",
    "#### 4.5 Vérifier la validation des assomptions selon le test identifié\n",
    "Afin d'effectuer le test mentionné, nous devont valider les assomptions suivantes :\n",
    " - Les 2 variables doivent être quantitatives et doivent obtenues à partir d’un échantillon aléatoire\n",
    " - Le scatter plot doit montrer que les données sont approximativement liées linéairement\n",
    " - Les résidus de la régression linéaire sont indépendants\n",
    " - Les résidus de la régression linéaire sont distribués selon une loi normale de moyenne 0\n",
    " - Les résidus de la régression linéaire sont distribués de façon homogène (homoscedasticité)\n",
    "\n",
    " ??"
   ]
  },
  {
   "cell_type": "code",
   "execution_count": 20,
   "id": "25070bfc",
   "metadata": {},
   "outputs": [
    {
     "data": {
      "text/html": [
       "<div>\n",
       "<style scoped>\n",
       "    .dataframe tbody tr th:only-of-type {\n",
       "        vertical-align: middle;\n",
       "    }\n",
       "\n",
       "    .dataframe tbody tr th {\n",
       "        vertical-align: top;\n",
       "    }\n",
       "\n",
       "    .dataframe thead th {\n",
       "        text-align: right;\n",
       "    }\n",
       "</style>\n",
       "<table border=\"1\" class=\"dataframe\">\n",
       "  <thead>\n",
       "    <tr style=\"text-align: right;\">\n",
       "      <th></th>\n",
       "      <th>Age</th>\n",
       "      <th>Fare</th>\n",
       "    </tr>\n",
       "  </thead>\n",
       "  <tbody>\n",
       "    <tr>\n",
       "      <th>Age</th>\n",
       "      <td>1.000000</td>\n",
       "      <td>0.145633</td>\n",
       "    </tr>\n",
       "    <tr>\n",
       "      <th>Fare</th>\n",
       "      <td>0.145633</td>\n",
       "      <td>1.000000</td>\n",
       "    </tr>\n",
       "  </tbody>\n",
       "</table>\n",
       "</div>"
      ],
      "text/plain": [
       "           Age      Fare\n",
       "Age   1.000000  0.145633\n",
       "Fare  0.145633  1.000000"
      ]
     },
     "execution_count": 20,
     "metadata": {},
     "output_type": "execute_result"
    }
   ],
   "source": [
    "# Coefficient de corrélation (Pearson) entre l'âge et le prix des billets\n",
    "data_clean[[\"Age\", \"Fare\"]].corr()"
   ]
  },
  {
   "cell_type": "markdown",
   "id": "d809e6b2",
   "metadata": {},
   "source": [
    "Comme on peut le voir grâce à la fonction exécuté ci-dessus, nous avons une relation linéaire faible et positive. \n",
    "\n",
    "#### 4.6 Calculer la statistique ainsi que la p-valeur\n",
    "Il est également possible de calculer ce coefficient de corrélation via la fonction **\"pearsonr\"** de **\"scipy.stats\"**. Nous allons retrouver la même valeur que celle ci-dessus, ainsi que la p-valeur que nous n'avions pas encore."
   ]
  },
  {
   "cell_type": "code",
   "execution_count": 21,
   "id": "59c76835",
   "metadata": {},
   "outputs": [
    {
     "name": "stdout",
     "output_type": "stream",
     "text": [
      "Coefficient de corrélation (Pearson) : 0.1456331592305597\n",
      "La p-valeur associée est de : 9.62085909106819e-05\n"
     ]
    }
   ],
   "source": [
    "# Calcul du coefficient de corrélation de Pearson et de la p-valeur\n",
    "corr_coeff, p_value = stats.pearsonr(data_clean['Age'], data_clean['Fare'])\n",
    "\n",
    "print(\"Coefficient de corrélation (Pearson) : \" + str(corr_coeff))\n",
    "print(\"La p-valeur associée est de : \" + str(p_value))"
   ]
  },
  {
   "cell_type": "markdown",
   "id": "e52fc2dd",
   "metadata": {},
   "source": [
    "#### 4.7 Prendre une décision à partir de la p-valeur et d'un seuil alpha de 5%\n",
    "\n",
    "Le seuil est défini via la variable \"alpha\" (0.05).\n",
    "Le calcul est fait directement entre la \"p_valeur\" du point précédent et \"alpha\" afin de rejetter ou non l'hypothèse nulle."
   ]
  },
  {
   "cell_type": "code",
   "execution_count": 22,
   "id": "d7ea9160",
   "metadata": {},
   "outputs": [
    {
     "name": "stdout",
     "output_type": "stream",
     "text": [
      "Avec un seuil alpha 0.05 on rejète l'hypothèse nulle.\n"
     ]
    }
   ],
   "source": [
    "# Seuil alpha\n",
    "alpha = 0.05\n",
    "\n",
    "# Si p-valeur < alpha, on rejète l'hypothèse nulle\n",
    "if p_valeur < alpha:\n",
    "    print(\"Avec un seuil alpha\", str(alpha), \"on rejète l'hypothèse nulle.\")\n",
    "    \n",
    "# Si p-valeur > alpha, on ne rejète pas l'hypothèse nulle\n",
    "else:\n",
    "    print(\"Avec un seuil alpha\", str(alpha), \"on ne rejète pas l'hypothèse nulle.\")"
   ]
  },
  {
   "cell_type": "markdown",
   "id": "eaa814b9",
   "metadata": {},
   "source": [
    "#### 4.8 Interpréter le résultat et évaluer la taille de l'effet\n",
    "??"
   ]
  },
  {
   "cell_type": "markdown",
   "id": "29f6871f",
   "metadata": {},
   "source": [
    "Pour chacune des questions 1 à 4 ci-dessus, argumenter de manière statistique en effectuant chacune des étapes suivantes:\n",
    "1. Identifier la ou les variables d'intérêt et spécifier le type.\n",
    "2. Réaliser une visualisation appropriée selon la ou les variables.\n",
    "3. Enoncer une hypothèse nulle et une hypothèse alternative considérant la ou les variables identifiées.\n",
    "4. Identifier le test statistique approprié selon les hypothèses énoncées.\n",
    "5. Vérifier la validation des assumptions selon le test identifié.\n",
    "6. Calculer la statistique ainsi que la p-valeur.\n",
    "7. Prendre une décision à partir de la p-valeur et d'un seuil alpha de 5%.\n",
    "8. Interpréter le résultat et évaluer la taille de l'effet."
   ]
  },
  {
   "cell_type": "markdown",
   "id": "493516ca",
   "metadata": {},
   "source": [
    "Quelques liens utiles pour la taille de l'effet:\n",
    "* [https://rpsychologist.com/cohend/](https://rpsychologist.com/cohend/)\n",
    "* [https://datatab.net/tutorial/effect-size-independent-t-test](https://datatab.net/tutorial/effect-size-independent-t-test)\n",
    "* [https://www.simplypsychology.org/effect-size.html](https://www.simplypsychology.org/effect-size.html)"
   ]
  },
  {
   "cell_type": "markdown",
   "id": "740c3ff2",
   "metadata": {},
   "source": [
    "## 3. Data mining (2 pts)"
   ]
  },
  {
   "cell_type": "markdown",
   "id": "6f89920e",
   "metadata": {},
   "source": [
    "### Q1: Effectuer une analyse statistique à l'aide de la régression logistique avec comme variable dépendente la variable `Survived`. Interpréter les coefficients et discuter de leur importance statistique en vous appuyant sur leur p-valeur."
   ]
  },
  {
   "cell_type": "markdown",
   "id": "0d66b468",
   "metadata": {},
   "source": [
    "### Q2: Effecter une analyse statistique à l'aide d'un arbre de classification avec comme variable dépendente la variable `Survived` et une profondeur maximale de 4. Visualiser l'arbre et expliquer quelques décisions."
   ]
  },
  {
   "cell_type": "markdown",
   "id": "42c0a724",
   "metadata": {},
   "source": [
    "**Conclusion: Interpréter les résultats des deux analyses statistiques et résumer les points importants de votre étude.**"
   ]
  }
 ],
 "metadata": {
  "kernelspec": {
   "display_name": "Python 3",
   "language": "python",
   "name": "python3"
  },
  "language_info": {
   "codemirror_mode": {
    "name": "ipython",
    "version": 3
   },
   "file_extension": ".py",
   "mimetype": "text/x-python",
   "name": "python",
   "nbconvert_exporter": "python",
   "pygments_lexer": "ipython3",
   "version": "3.11.5"
  }
 },
 "nbformat": 4,
 "nbformat_minor": 5
}
